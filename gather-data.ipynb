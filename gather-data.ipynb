{
 "cells": [
  {
   "cell_type": "code",
   "execution_count": 26,
   "id": "ac8cfaea-065b-43cb-bd0b-5eda8ec3ee3a",
   "metadata": {},
   "outputs": [],
   "source": [
    "import os\n",
    "from path import Path\n",
    "import pandas as pd"
   ]
  },
  {
   "cell_type": "code",
   "execution_count": 35,
   "id": "765b63d9-1921-4e99-b574-87b2fe4888e2",
   "metadata": {},
   "outputs": [],
   "source": [
    "logs_dir = Path(os.getcwd()) / \"outputs\"\n",
    "subdirs = [\"2023-06-{}\".format(day) for day in range(25,31)]\n",
    "subdirs.extend([\"2023-07-01\", \"2023-07-02\"])\n",
    "\n",
    "outputs = {'dataset': [], 'split': [], 'seed': [], 'test_spearman': []}\n",
    "\n",
    "for day in subdirs:\n",
    "    day_dir = logs_dir / day\n",
    "    for run_name in day_dir.dirs():\n",
    "        run_dir = day_dir / run_name\n",
    "        metrics = pd.read_csv(run_dir / \"csv\" / \"version_0\" / \"metrics.csv\")\n",
    "        config_file = run_dir / \"config_tree.log\"\n",
    "        \n",
    "        split_config = open(config_file).read().split()\n",
    "        outputs['dataset'].append(split_config[split_config.index(\"dataset:\") + 1])\n",
    "        outputs['split'].append(split_config[split_config.index(\"split:\") + 1])\n",
    "        outputs['seed'].append(split_config[split_config.index(\"seed\") + 2])\n",
    "        \n",
    "        outputs['test_spearman'].append(float(metrics[~metrics['test_spearman'].isna()]['test_spearman']))\n",
    "\n",
    "pd.DataFrame.from_dict(outputs).to_csv('from_seeds.csv', index=False)\n",
    "        "
   ]
  },
  {
   "cell_type": "code",
   "execution_count": null,
   "id": "82444566-db58-4829-b2d7-70db4e60d201",
   "metadata": {},
   "outputs": [],
   "source": []
  }
 ],
 "metadata": {
  "environment": {
   "kernel": "flipper",
   "name": "common-cu110.m102",
   "type": "gcloud",
   "uri": "gcr.io/deeplearning-platform-release/base-cu110:m102"
  },
  "kernelspec": {
   "display_name": "flipper",
   "language": "python",
   "name": "flipper"
  },
  "language_info": {
   "codemirror_mode": {
    "name": "ipython",
    "version": 3
   },
   "file_extension": ".py",
   "mimetype": "text/x-python",
   "name": "python",
   "nbconvert_exporter": "python",
   "pygments_lexer": "ipython3",
   "version": "3.10.9"
  }
 },
 "nbformat": 4,
 "nbformat_minor": 5
}
